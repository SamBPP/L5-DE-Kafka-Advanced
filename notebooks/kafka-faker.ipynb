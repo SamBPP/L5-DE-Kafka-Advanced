{
 "cells": [
  {
   "cell_type": "code",
   "execution_count": null,
   "id": "0c770d09",
   "metadata": {
    "vscode": {
     "languageId": "plaintext"
    }
   },
   "outputs": [],
   "source": [
    "!pip install confluent-kafka"
   ]
  }
 ],
 "metadata": {
  "language_info": {
   "name": "python"
  }
 },
 "nbformat": 4,
 "nbformat_minor": 5
}
