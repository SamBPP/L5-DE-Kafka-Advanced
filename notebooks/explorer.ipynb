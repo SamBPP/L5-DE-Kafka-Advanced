{
 "cells": [
  {
   "cell_type": "code",
   "execution_count": 6,
   "id": "0c770d09",
   "metadata": {},
   "outputs": [],
   "source": [
    "import sys\n",
    "sys.path.append(\"..\")"
   ]
  },
  {
   "cell_type": "code",
   "execution_count": 4,
   "id": "cb025958",
   "metadata": {},
   "outputs": [],
   "source": [
    "import os\n",
    "import json\n",
    "import time\n",
    "import numpy as np\n",
    "import random\n",
    "import math\n",
    "import argparse\n",
    "from faker import Faker\n",
    "from kafka import KafkaProducer\n",
    "from dotenv import load_dotenv\n",
    "from datetime import datetime\n",
    "import io"
   ]
  },
  {
   "cell_type": "code",
   "execution_count": 2,
   "id": "eb627cb8",
   "metadata": {},
   "outputs": [
    {
     "name": "stdout",
     "output_type": "stream",
     "text": [
      "Collecting avro-python3\n",
      "  Downloading avro-python3-1.10.2.tar.gz (38 kB)\n",
      "  Installing build dependencies: started\n",
      "  Installing build dependencies: finished with status 'done'\n",
      "  Getting requirements to build wheel: started\n",
      "  Getting requirements to build wheel: finished with status 'done'\n",
      "  Installing backend dependencies: started\n",
      "  Installing backend dependencies: finished with status 'done'\n",
      "  Preparing metadata (pyproject.toml): started\n",
      "  Preparing metadata (pyproject.toml): finished with status 'done'\n",
      "Building wheels for collected packages: avro-python3\n",
      "  Building wheel for avro-python3 (pyproject.toml): started\n",
      "  Building wheel for avro-python3 (pyproject.toml): finished with status 'done'\n",
      "  Created wheel for avro-python3: filename=avro_python3-1.10.2-py3-none-any.whl size=44041 sha256=b2fa3606e4ab3dc5835631141c66580e008a15aaaa55531d1caf5325b4684220\n",
      "  Stored in directory: c:\\users\\sread\\appdata\\local\\pip\\cache\\wheels\\51\\1a\\f4\\bd962fd1830f8b34c3ba124e1fabbfcb64ccd588dd3bcf1ba9\n",
      "Successfully built avro-python3\n",
      "Installing collected packages: avro-python3\n",
      "Successfully installed avro-python3-1.10.2\n"
     ]
    }
   ],
   "source": [
    "!pip install avro-python3"
   ]
  },
  {
   "cell_type": "code",
   "execution_count": 3,
   "id": "85e3459d",
   "metadata": {},
   "outputs": [],
   "source": [
    "from avro.io import DatumWriter, BinaryEncoder\n",
    "from avro.schema import Parse"
   ]
  },
  {
   "cell_type": "code",
   "execution_count": 10,
   "id": "94c81302",
   "metadata": {},
   "outputs": [],
   "source": [
    "schema = Parse(open(\"user.avsc\", \"r\").read())\n",
    "writer = DatumWriter(schema)\n",
    "bytes_writer = io.BytesIO()\n",
    "encoder = BinaryEncoder(bytes_writer)\n",
    "\n",
    "user_data = {\"username\": \"john_doe\", \"email\": \"john@example.com\", \"age\": 30}\n",
    "writer.write(user_data, encoder)\n",
    "raw_bytes = bytes_writer.getvalue()"
   ]
  },
  {
   "cell_type": "code",
   "execution_count": null,
   "id": "3655ddd9",
   "metadata": {},
   "outputs": [],
   "source": []
  }
 ],
 "metadata": {
  "kernelspec": {
   "display_name": "Python 3",
   "language": "python",
   "name": "python3"
  },
  "language_info": {
   "codemirror_mode": {
    "name": "ipython",
    "version": 3
   },
   "file_extension": ".py",
   "mimetype": "text/x-python",
   "name": "python",
   "nbconvert_exporter": "python",
   "pygments_lexer": "ipython3",
   "version": "3.13.0"
  }
 },
 "nbformat": 4,
 "nbformat_minor": 5
}
