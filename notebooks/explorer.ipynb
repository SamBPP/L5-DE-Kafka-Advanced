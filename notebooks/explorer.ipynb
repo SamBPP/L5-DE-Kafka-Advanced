{
 "cells": [
  {
   "cell_type": "code",
   "execution_count": null,
   "id": "0c770d09",
   "metadata": {},
   "outputs": [],
   "source": [
    "# import sys\n",
    "# sys.path.append(\"..\")\n",
    "# from src import producer"
   ]
  },
  {
   "cell_type": "code",
   "execution_count": 2,
   "id": "cb025958",
   "metadata": {},
   "outputs": [],
   "source": [
    "import os\n",
    "from kafka import KafkaProducer\n",
    "from dotenv import load_dotenv"
   ]
  },
  {
   "cell_type": "code",
   "execution_count": null,
   "id": "0f64de1b",
   "metadata": {},
   "outputs": [],
   "source": [
    "producer = KafkaProducer(\n",
    "    bootstrap_servers='localhost:9092',\n",
    "    retries=3,\n",
    "    linger_ms=5,\n",
    "    security_protocol='SASL_SSL',\n",
    "    sasl_mechanism='SCRAM-SHA-256',\n",
    "    sasl_plain_username=os.getenv(\"SASL_USERNAME\"),\n",
    "    sasl_plain_password=os.getenv(\"SASL_PASSWORD\"))\n",
    "producer.send(topic_name,key=key, value=value)"
   ]
  },
  {
   "cell_type": "code",
   "execution_count": 8,
   "id": "a1df53bc",
   "metadata": {},
   "outputs": [],
   "source": [
    "from datetime import datetime\n",
    "import math"
   ]
  },
  {
   "cell_type": "code",
   "execution_count": 10,
   "id": "85e3459d",
   "metadata": {},
   "outputs": [
    {
     "data": {
      "text/plain": [
       "1747905223"
      ]
     },
     "execution_count": 10,
     "metadata": {},
     "output_type": "execute_result"
    }
   ],
   "source": []
  }
 ],
 "metadata": {
  "kernelspec": {
   "display_name": "Python 3",
   "language": "python",
   "name": "python3"
  },
  "language_info": {
   "codemirror_mode": {
    "name": "ipython",
    "version": 3
   },
   "file_extension": ".py",
   "mimetype": "text/x-python",
   "name": "python",
   "nbconvert_exporter": "python",
   "pygments_lexer": "ipython3",
   "version": "3.13.0"
  }
 },
 "nbformat": 4,
 "nbformat_minor": 5
}
